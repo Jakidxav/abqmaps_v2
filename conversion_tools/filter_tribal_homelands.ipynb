{
 "cells": [
  {
   "cell_type": "code",
   "execution_count": 1,
   "id": "e1666a5f-c057-4f02-857e-96d7c251bc7e",
   "metadata": {},
   "outputs": [],
   "source": [
    "import json\n",
    "import numpy as np\n"
   ]
  },
  {
   "cell_type": "code",
   "execution_count": 2,
   "id": "9d88c018-f84a-4284-b961-2a41b7733bbb",
   "metadata": {},
   "outputs": [
    {
     "data": {
      "text/plain": [
       "'1.24.3'"
      ]
     },
     "execution_count": 2,
     "metadata": {},
     "output_type": "execute_result"
    }
   ],
   "source": [
    "np.__version__\n"
   ]
  },
  {
   "cell_type": "markdown",
   "id": "b099f3ac-eb80-4ec0-b26c-8b68c0798900",
   "metadata": {},
   "source": [
    "To get only the tribal homelands located in New Mexico, I had to download a shapefile for the outline of New Mexico, as well. Then, I ran an intersection of the two in QGIS. This unfortunately led to Navajo Nation being split at the New Mexico border, which is not acceptable. So, the purpose of this Notebook is to cross-reference the the full list of names of the tribal homelands and match them back to their full shapefile boundaries. \n"
   ]
  },
  {
   "cell_type": "code",
   "execution_count": 3,
   "id": "7c173bdc-4f6d-4945-81bf-59aae472f160",
   "metadata": {},
   "outputs": [],
   "source": [
    "with open('./tribal_homelands_clipped.json', 'r') as load_from_geojson:\n",
    "    tribal_homelands_clipped = json.load(load_from_geojson)\n"
   ]
  },
  {
   "cell_type": "code",
   "execution_count": 4,
   "id": "13ef8e2a-e6a0-464a-8e45-c6a7fef87c01",
   "metadata": {},
   "outputs": [
    {
     "name": "stdout",
     "output_type": "stream",
     "text": [
      "Number of features to start:  26 \n",
      "\n"
     ]
    }
   ],
   "source": [
    "# this is how many tribes there are in the new mexico\n",
    "print('Number of features to start: ', len(tribal_homelands_clipped['features']), '\\n')\n"
   ]
  },
  {
   "cell_type": "code",
   "execution_count": 5,
   "id": "43537b4d",
   "metadata": {},
   "outputs": [
    {
     "name": "stdout",
     "output_type": "stream",
     "text": [
      "Number of features to start:  26 \n",
      "\n"
     ]
    }
   ],
   "source": [
    "# this is how many tribes there are in the new mexico\n",
    "print('Number of features to start: ', len(tribal_homelands_clipped['features']), '\\n')\n"
   ]
  },
  {
   "cell_type": "markdown",
   "id": "46c6b636-060d-43c5-851a-dc499621c60d",
   "metadata": {},
   "source": [
    "This is 2 more than I was expecting, so let's take a look at our list of tribes."
   ]
  },
  {
   "cell_type": "code",
   "execution_count": 6,
   "id": "6c81cf3e-305d-4b5d-82f1-95ad680c93fc",
   "metadata": {},
   "outputs": [
    {
     "name": "stdout",
     "output_type": "stream",
     "text": [
      "Acoma\n",
      "Cochiti\n",
      "Fort Sill Apache\n",
      "Isleta\n",
      "Jemez\n",
      "Jicarilla Apache Nation\n",
      "Laguna\n",
      "Mescalero\n",
      "Nambe\n",
      "Navajo Nation\n",
      "Ohkay Owingeh\n",
      "Picuris\n",
      "Pojoaque\n",
      "San Felipe\n",
      "San Felipe Pueblo/Santa Ana Pueblo\n",
      "San Felipe Pueblo/Santo Domingo Pueblo\n",
      "San Ildefonso\n",
      "Sandia\n",
      "Santa Ana\n",
      "Santa Clara\n",
      "Santo Domingo\n",
      "Taos\n",
      "Tesuque\n",
      "Ute Mountain\n",
      "Zia\n",
      "Zuni\n"
     ]
    }
   ],
   "source": [
    "list_of_names = []\n",
    "for tribal_homeland in tribal_homelands_clipped[\"features\"]:\n",
    "    list_of_names.append(tribal_homeland[\"properties\"][\"NAME\"])\n",
    "\n",
    "sorted_names = sorted(list_of_names)\n",
    "for name in sorted_names:\n",
    "    print(name)\n"
   ]
  },
  {
   "cell_type": "markdown",
   "id": "9620b9ad-8cf2-4f88-b59e-8c93daa25803",
   "metadata": {},
   "source": [
    "These two names are listed as joint-use areas between two pueblos:\n",
    "- San Felipe Pueblo/Santa Ana Pueblo\n",
    "- San Felipe Pueblo/Santo Domingo Pueblo\n",
    "\n",
    "And these areas show up on the map, so we definitely should not get rid of them.\n"
   ]
  },
  {
   "cell_type": "code",
   "execution_count": 7,
   "id": "0d143a4e-6c8f-4707-8454-272ac6fb7d8a",
   "metadata": {},
   "outputs": [],
   "source": [
    "with open('./tribal_homelands.json', 'r') as load_from_geojson:\n",
    "    tribal_homelands_full = json.load(load_from_geojson)\n"
   ]
  },
  {
   "cell_type": "code",
   "execution_count": 8,
   "id": "763dcfb0-0e8a-4c3a-ac38-444c06809d92",
   "metadata": {},
   "outputs": [
    {
     "name": "stdout",
     "output_type": "stream",
     "text": [
      "Number of features to start:  704 \n",
      "\n"
     ]
    }
   ],
   "source": [
    "# this is how many contours are in the geojson file\n",
    "print('Number of features to start: ', len(tribal_homelands_full['features']), '\\n')\n"
   ]
  },
  {
   "cell_type": "code",
   "execution_count": 9,
   "id": "fe62fb0e-b6f2-4084-ac74-c82facba3058",
   "metadata": {},
   "outputs": [
    {
     "name": "stdout",
     "output_type": "stream",
     "text": [
      "Begin save list...\n",
      "Done \n",
      "\n"
     ]
    }
   ],
   "source": [
    "# kep only those tribal areas from new mexico\n",
    "homelands_keep_list = []\n",
    "\n",
    "print('Begin save list...')\n",
    "for homeland in tribal_homelands_full['features']:\n",
    "    if(homeland['properties']['NAME'] in sorted_names):\n",
    "        homelands_keep_list.append(homeland)\n",
    "    else:\n",
    "        continue\n",
    "print('Done', '\\n')\n"
   ]
  },
  {
   "cell_type": "code",
   "execution_count": 10,
   "id": "2e84ff83-08f2-423c-a591-7e956989f4d3",
   "metadata": {},
   "outputs": [
    {
     "name": "stdout",
     "output_type": "stream",
     "text": [
      "26\n"
     ]
    }
   ],
   "source": [
    "print(len(homelands_keep_list))\n"
   ]
  },
  {
   "cell_type": "code",
   "execution_count": 11,
   "id": "d0e91cf8-93cb-4f6f-885b-66df78e45daf",
   "metadata": {},
   "outputs": [],
   "source": [
    "# create a dict that we can save to a json file that still maintains\n",
    "# header information of input file\n",
    "json_header = dict()\n",
    "for key in tribal_homelands_full.keys():\n",
    "    if key != \"features\":\n",
    "        json_header[key] = tribal_homelands_full[key]\n",
    "    else:\n",
    "        json_header[key] = homelands_keep_list\n"
   ]
  },
  {
   "cell_type": "code",
   "execution_count": 14,
   "id": "574c553b-b648-4b74-90f5-3df2ea80aeef",
   "metadata": {},
   "outputs": [],
   "source": [
    "# save file both as json and geojson\n",
    "# note: in this repo, the filename is just \"tribal_homelands.js\"\n",
    "# so i converted from json --> js and then left of the suffix \"_fixed\"\n",
    "with open(\"tribal_homelands_fixed.json\", 'w') as save_to_json:\n",
    "    json.dump(json_header, save_to_json)\n"
   ]
  },
  {
   "cell_type": "code",
   "execution_count": 15,
   "id": "cce44e3c-5453-40e6-8332-1d595407f1d5",
   "metadata": {},
   "outputs": [],
   "source": [
    "with open(\"tribal_homelands_fixed.geojson\", 'w') as save_to_geojson:\n",
    "    json.dump(json_header, save_to_geojson)\n",
    "    "
   ]
  },
  {
   "cell_type": "code",
   "execution_count": null,
   "id": "7cc1845a-f760-459b-a1af-7f90d4b8a466",
   "metadata": {},
   "outputs": [],
   "source": []
  }
 ],
 "metadata": {
  "kernelspec": {
   "display_name": "Python 3 (ipykernel)",
   "language": "python",
   "name": "python3"
  },
  "language_info": {
   "codemirror_mode": {
    "name": "ipython",
    "version": 3
   },
   "file_extension": ".py",
   "mimetype": "text/x-python",
   "name": "python",
   "nbconvert_exporter": "python",
   "pygments_lexer": "ipython3",
   "version": "3.8.17"
  }
 },
 "nbformat": 4,
 "nbformat_minor": 5
}
