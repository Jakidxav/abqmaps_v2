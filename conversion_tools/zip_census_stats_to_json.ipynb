{
 "cells": [
  {
   "cell_type": "code",
   "execution_count": 1,
   "id": "60f18274",
   "metadata": {},
   "outputs": [],
   "source": [
    "import json\n",
    "import numpy as np\n",
    "import pandas as pd\n"
   ]
  },
  {
   "cell_type": "code",
   "execution_count": 2,
   "id": "c0688bde",
   "metadata": {},
   "outputs": [
    {
     "data": {
      "text/plain": [
       "Tract                                 object\n",
       "White (Non-Hispanic)                 float64\n",
       "BIPOC                                float64\n",
       "Hispanic                             float64\n",
       "Black                                float64\n",
       "American Indian or Alaskan Native    float64\n",
       "Asian or Pacific Islander            float64\n",
       "dtype: object"
      ]
     },
     "execution_count": 2,
     "metadata": {},
     "output_type": "execute_result"
    }
   ],
   "source": [
    "# open excel file containing race statistics\n",
    "dataframe = pd.read_csv('./bernalillo_census_data_2020.csv', dtype={'Tract': str})\n",
    "dataframe.dtypes\n"
   ]
  },
  {
   "cell_type": "code",
   "execution_count": 3,
   "id": "242ba3fb",
   "metadata": {},
   "outputs": [
    {
     "data": {
      "text/html": [
       "<div>\n",
       "<style scoped>\n",
       "    .dataframe tbody tr th:only-of-type {\n",
       "        vertical-align: middle;\n",
       "    }\n",
       "\n",
       "    .dataframe tbody tr th {\n",
       "        vertical-align: top;\n",
       "    }\n",
       "\n",
       "    .dataframe thead th {\n",
       "        text-align: right;\n",
       "    }\n",
       "</style>\n",
       "<table border=\"1\" class=\"dataframe\">\n",
       "  <thead>\n",
       "    <tr style=\"text-align: right;\">\n",
       "      <th></th>\n",
       "      <th>Tract</th>\n",
       "      <th>White (Non-Hispanic)</th>\n",
       "      <th>BIPOC</th>\n",
       "      <th>Hispanic</th>\n",
       "      <th>Black</th>\n",
       "      <th>American Indian or Alaskan Native</th>\n",
       "      <th>Asian or Pacific Islander</th>\n",
       "    </tr>\n",
       "  </thead>\n",
       "  <tbody>\n",
       "    <tr>\n",
       "      <th>0</th>\n",
       "      <td>000107</td>\n",
       "      <td>73.88</td>\n",
       "      <td>26.12</td>\n",
       "      <td>18.56</td>\n",
       "      <td>3.88</td>\n",
       "      <td>2.75</td>\n",
       "      <td>0.93</td>\n",
       "    </tr>\n",
       "    <tr>\n",
       "      <th>1</th>\n",
       "      <td>000108</td>\n",
       "      <td>61.20</td>\n",
       "      <td>35.30</td>\n",
       "      <td>23.14</td>\n",
       "      <td>1.57</td>\n",
       "      <td>10.59</td>\n",
       "      <td>0.00</td>\n",
       "    </tr>\n",
       "    <tr>\n",
       "      <th>2</th>\n",
       "      <td>000109</td>\n",
       "      <td>62.99</td>\n",
       "      <td>34.91</td>\n",
       "      <td>22.99</td>\n",
       "      <td>0.79</td>\n",
       "      <td>9.95</td>\n",
       "      <td>1.18</td>\n",
       "    </tr>\n",
       "    <tr>\n",
       "      <th>3</th>\n",
       "      <td>000110</td>\n",
       "      <td>57.37</td>\n",
       "      <td>40.22</td>\n",
       "      <td>33.11</td>\n",
       "      <td>2.12</td>\n",
       "      <td>4.60</td>\n",
       "      <td>0.39</td>\n",
       "    </tr>\n",
       "    <tr>\n",
       "      <th>4</th>\n",
       "      <td>000111</td>\n",
       "      <td>61.22</td>\n",
       "      <td>33.50</td>\n",
       "      <td>24.72</td>\n",
       "      <td>3.24</td>\n",
       "      <td>0.00</td>\n",
       "      <td>5.54</td>\n",
       "    </tr>\n",
       "  </tbody>\n",
       "</table>\n",
       "</div>"
      ],
      "text/plain": [
       "    Tract  White (Non-Hispanic)  BIPOC  Hispanic  Black  \\\n",
       "0  000107                 73.88  26.12     18.56   3.88   \n",
       "1  000108                 61.20  35.30     23.14   1.57   \n",
       "2  000109                 62.99  34.91     22.99   0.79   \n",
       "3  000110                 57.37  40.22     33.11   2.12   \n",
       "4  000111                 61.22  33.50     24.72   3.24   \n",
       "\n",
       "   American Indian or Alaskan Native  Asian or Pacific Islander  \n",
       "0                               2.75                       0.93  \n",
       "1                              10.59                       0.00  \n",
       "2                               9.95                       1.18  \n",
       "3                               4.60                       0.39  \n",
       "4                               0.00                       5.54  "
      ]
     },
     "execution_count": 3,
     "metadata": {},
     "output_type": "execute_result"
    }
   ],
   "source": [
    "dataframe['White (Non-Hispanic)'] *= 100\n",
    "dataframe['BIPOC'] *= 100\n",
    "dataframe['Hispanic'] *= 100\n",
    "dataframe['Black'] *= 100\n",
    "dataframe['American Indian or Alaskan Native'] *= 100\n",
    "dataframe['Asian or Pacific Islander'] *= 100\n",
    "dataframe.head()\n"
   ]
  },
  {
   "cell_type": "code",
   "execution_count": 4,
   "id": "99f4ca63",
   "metadata": {},
   "outputs": [
    {
     "data": {
      "text/plain": [
       "153"
      ]
     },
     "execution_count": 4,
     "metadata": {},
     "output_type": "execute_result"
    }
   ],
   "source": [
    "len(dataframe)\n"
   ]
  },
  {
   "cell_type": "code",
   "execution_count": 5,
   "id": "6bd61004",
   "metadata": {},
   "outputs": [
    {
     "name": "stdout",
     "output_type": "stream",
     "text": [
      "Number of census tracts in JSON file:  153 \n",
      "\n"
     ]
    }
   ],
   "source": [
    "# open data from geojson file\n",
    "# original format was a .shp file, see conversion notes here: https://github.com/GeoAIR-lab/abqMaps-v2/blob/main/src/index.html\n",
    "with open('./bernalillo_census_tracts_2019.json', 'r') as load_from_json:\n",
    "    census_tracts = json.load(load_from_json)\n",
    "\n",
    "#this is how many contours are in the geojson file\n",
    "print('Number of census tracts in JSON file: ', len(census_tracts['features']), '\\n')\n"
   ]
  },
  {
   "cell_type": "code",
   "execution_count": 6,
   "id": "c2b02bb4",
   "metadata": {},
   "outputs": [],
   "source": [
    "# add percent demographics feature to json\n",
    "for tract in census_tracts['features']:\n",
    "    tract_number = tract[\"properties\"][\"TRACTCE\"]\n",
    "    percent_bipoc = \"{:.2f}\".format(dataframe[dataframe[\"Tract\"] == tract_number]['BIPOC'].values[0])\n",
    "    tract[\"properties\"][\"percent_bipoc\"] = percent_bipoc\n",
    "#     percent_white = \"{:.2f}\".format(dataframe[dataframe[\"Tract\"] == tract_number]['White (Non-Hispanic)'].values[0])\n",
    "#     tract[\"properties\"][\"percent_white\"] = percent_white\n"
   ]
  },
  {
   "cell_type": "code",
   "execution_count": 7,
   "id": "1bc32ceb",
   "metadata": {},
   "outputs": [
    {
     "name": "stdout",
     "output_type": "stream",
     "text": [
      "002402 5.08\n",
      "000712 47.12\n",
      "000110 57.37\n",
      "004727 43.26\n",
      "003724 69.66\n",
      "000402 65.38\n",
      "000125 65.89\n",
      "002200 44.32\n",
      "003731 73.31\n",
      "000704 45.71\n"
     ]
    }
   ],
   "source": [
    "# let's see if that worked\n",
    "for tract in census_tracts['features'][:10]:\n",
    "    print(tract['properties']['TRACTCE'], tract['properties']['percent_bipoc'])\n",
    "#     print(tract['properties']['TRACTCE'], tract['properties']['percent_white'])\n"
   ]
  },
  {
   "cell_type": "code",
   "execution_count": 8,
   "id": "fc84958b",
   "metadata": {},
   "outputs": [
    {
     "data": {
      "text/html": [
       "<div>\n",
       "<style scoped>\n",
       "    .dataframe tbody tr th:only-of-type {\n",
       "        vertical-align: middle;\n",
       "    }\n",
       "\n",
       "    .dataframe tbody tr th {\n",
       "        vertical-align: top;\n",
       "    }\n",
       "\n",
       "    .dataframe thead th {\n",
       "        text-align: right;\n",
       "    }\n",
       "</style>\n",
       "<table border=\"1\" class=\"dataframe\">\n",
       "  <thead>\n",
       "    <tr style=\"text-align: right;\">\n",
       "      <th></th>\n",
       "      <th>Tract</th>\n",
       "      <th>White (Non-Hispanic)</th>\n",
       "      <th>BIPOC</th>\n",
       "      <th>Hispanic</th>\n",
       "      <th>Black</th>\n",
       "      <th>American Indian or Alaskan Native</th>\n",
       "      <th>Asian or Pacific Islander</th>\n",
       "    </tr>\n",
       "  </thead>\n",
       "  <tbody>\n",
       "    <tr>\n",
       "      <th>42</th>\n",
       "      <td>000712</td>\n",
       "      <td>47.12</td>\n",
       "      <td>51.83</td>\n",
       "      <td>36.94</td>\n",
       "      <td>3.91</td>\n",
       "      <td>9.93</td>\n",
       "      <td>1.05</td>\n",
       "    </tr>\n",
       "  </tbody>\n",
       "</table>\n",
       "</div>"
      ],
      "text/plain": [
       "     Tract  White (Non-Hispanic)  BIPOC  Hispanic  Black  \\\n",
       "42  000712                 47.12  51.83     36.94   3.91   \n",
       "\n",
       "    American Indian or Alaskan Native  Asian or Pacific Islander  \n",
       "42                               9.93                       1.05  "
      ]
     },
     "execution_count": 8,
     "metadata": {},
     "output_type": "execute_result"
    }
   ],
   "source": [
    "dataframe[dataframe['Tract'] == '000712']"
   ]
  },
  {
   "cell_type": "code",
   "execution_count": 9,
   "id": "3b09ab10",
   "metadata": {},
   "outputs": [],
   "source": [
    "# save file as json\n",
    "with open(\"bernalillo_percent_bipoc_2020.json\", 'w') as save_to_json:\n",
    "    json.dump(census_tracts, save_to_json)\n",
    "\n",
    "# with open(\"bernalillo_percent_white_2020.json\", 'w') as save_to_json:\n",
    "#     json.dump(census_tracts, save_to_json)\n"
   ]
  },
  {
   "cell_type": "code",
   "execution_count": null,
   "id": "9e104e30",
   "metadata": {},
   "outputs": [],
   "source": []
  }
 ],
 "metadata": {
  "kernelspec": {
   "display_name": "Python 3 (ipykernel)",
   "language": "python",
   "name": "python3"
  },
  "language_info": {
   "codemirror_mode": {
    "name": "ipython",
    "version": 3
   },
   "file_extension": ".py",
   "mimetype": "text/x-python",
   "name": "python",
   "nbconvert_exporter": "python",
   "pygments_lexer": "ipython3",
   "version": "3.8.11"
  }
 },
 "nbformat": 4,
 "nbformat_minor": 5
}
